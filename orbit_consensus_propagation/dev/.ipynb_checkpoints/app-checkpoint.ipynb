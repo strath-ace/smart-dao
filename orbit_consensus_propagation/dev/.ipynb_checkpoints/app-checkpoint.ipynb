{
 "cells": [
  {
   "cell_type": "code",
   "execution_count": 3,
   "id": "37ec4578-50d7-4f3a-8a3a-a6680fb742ae",
   "metadata": {
    "scrolled": true
   },
   "outputs": [
    {
     "name": "stdout",
     "output_type": "stream",
     "text": [
      "Defaulting to user installation because normal site-packages is not writeable\n",
      "Requirement already satisfied: pymoo in /home/robert/.local/lib/python3.10/site-packages (0.6.1.1)\n",
      "Requirement already satisfied: numpy>=1.15 in /home/robert/.local/lib/python3.10/site-packages (from pymoo) (1.26.2)\n",
      "Requirement already satisfied: scipy>=1.1 in /usr/lib/python3/dist-packages (from pymoo) (1.8.0)\n",
      "Requirement already satisfied: cma==3.2.2 in /home/robert/.local/lib/python3.10/site-packages (from pymoo) (3.2.2)\n",
      "Requirement already satisfied: alive-progress in /home/robert/.local/lib/python3.10/site-packages (from pymoo) (3.1.5)\n",
      "Requirement already satisfied: Deprecated in /home/robert/.local/lib/python3.10/site-packages (from pymoo) (1.2.14)\n",
      "Requirement already satisfied: dill in /home/robert/.local/lib/python3.10/site-packages (from pymoo) (0.3.7)\n",
      "Requirement already satisfied: autograd>=1.4 in /home/robert/.local/lib/python3.10/site-packages (from pymoo) (1.6.2)\n",
      "Requirement already satisfied: matplotlib>=3 in /home/robert/.local/lib/python3.10/site-packages (from pymoo) (3.7.2)\n",
      "Requirement already satisfied: future>=0.15.2 in /usr/lib/python3/dist-packages (from autograd>=1.4->pymoo) (0.18.2)\n",
      "Requirement already satisfied: cycler>=0.10 in /home/robert/.local/lib/python3.10/site-packages (from matplotlib>=3->pymoo) (0.11.0)\n",
      "Requirement already satisfied: packaging>=20.0 in /home/robert/.local/lib/python3.10/site-packages (from matplotlib>=3->pymoo) (23.1)\n",
      "Requirement already satisfied: pyparsing<3.1,>=2.3.1 in /usr/lib/python3/dist-packages (from matplotlib>=3->pymoo) (2.4.7)\n",
      "Requirement already satisfied: pillow>=6.2.0 in /usr/lib/python3/dist-packages (from matplotlib>=3->pymoo) (9.0.1)\n",
      "Requirement already satisfied: fonttools>=4.22.0 in /home/robert/.local/lib/python3.10/site-packages (from matplotlib>=3->pymoo) (4.42.1)\n",
      "Requirement already satisfied: kiwisolver>=1.0.1 in /home/robert/.local/lib/python3.10/site-packages (from matplotlib>=3->pymoo) (1.4.5)\n",
      "Requirement already satisfied: contourpy>=1.0.1 in /home/robert/.local/lib/python3.10/site-packages (from matplotlib>=3->pymoo) (1.1.0)\n",
      "Requirement already satisfied: python-dateutil>=2.7 in /home/robert/.local/lib/python3.10/site-packages (from matplotlib>=3->pymoo) (2.8.2)\n",
      "Requirement already satisfied: grapheme==0.6.0 in /home/robert/.local/lib/python3.10/site-packages (from alive-progress->pymoo) (0.6.0)\n",
      "Requirement already satisfied: about-time==4.2.1 in /home/robert/.local/lib/python3.10/site-packages (from alive-progress->pymoo) (4.2.1)\n",
      "Requirement already satisfied: wrapt<2,>=1.10 in /home/robert/.local/lib/python3.10/site-packages (from Deprecated->pymoo) (1.16.0)\n",
      "Requirement already satisfied: six>=1.5 in /usr/lib/python3/dist-packages (from python-dateutil>=2.7->matplotlib>=3->pymoo) (1.16.0)\n",
      "Defaulting to user installation because normal site-packages is not writeable\n",
      "Requirement already satisfied: ephem==4.1.5 in /home/robert/.local/lib/python3.10/site-packages (from -r requirements.txt (line 3)) (4.1.5)\n",
      "Requirement already satisfied: geneticalgorithm==1.0.2 in /home/robert/.local/lib/python3.10/site-packages (from -r requirements.txt (line 4)) (1.0.2)\n",
      "Requirement already satisfied: numpy in /home/robert/.local/lib/python3.10/site-packages (from -r requirements.txt (line 5)) (1.26.2)\n",
      "Requirement already satisfied: pytictoc==1.5.3 in /home/robert/.local/lib/python3.10/site-packages (from -r requirements.txt (line 6)) (1.5.3)\n",
      "Requirement already satisfied: matplotlib in /home/robert/.local/lib/python3.10/site-packages (from -r requirements.txt (line 7)) (3.7.2)\n",
      "Requirement already satisfied: requests in /home/robert/.local/lib/python3.10/site-packages (from -r requirements.txt (line 8)) (2.31.0)\n",
      "Requirement already satisfied: func-timeout in /home/robert/.local/lib/python3.10/site-packages (from geneticalgorithm==1.0.2->-r requirements.txt (line 4)) (4.3.5)\n",
      "Requirement already satisfied: fonttools>=4.22.0 in /home/robert/.local/lib/python3.10/site-packages (from matplotlib->-r requirements.txt (line 7)) (4.42.1)\n",
      "Requirement already satisfied: cycler>=0.10 in /home/robert/.local/lib/python3.10/site-packages (from matplotlib->-r requirements.txt (line 7)) (0.11.0)\n",
      "Requirement already satisfied: python-dateutil>=2.7 in /home/robert/.local/lib/python3.10/site-packages (from matplotlib->-r requirements.txt (line 7)) (2.8.2)\n",
      "Requirement already satisfied: kiwisolver>=1.0.1 in /home/robert/.local/lib/python3.10/site-packages (from matplotlib->-r requirements.txt (line 7)) (1.4.5)\n",
      "Requirement already satisfied: packaging>=20.0 in /home/robert/.local/lib/python3.10/site-packages (from matplotlib->-r requirements.txt (line 7)) (23.1)\n",
      "Requirement already satisfied: contourpy>=1.0.1 in /home/robert/.local/lib/python3.10/site-packages (from matplotlib->-r requirements.txt (line 7)) (1.1.0)\n",
      "Requirement already satisfied: pillow>=6.2.0 in /usr/lib/python3/dist-packages (from matplotlib->-r requirements.txt (line 7)) (9.0.1)\n",
      "Requirement already satisfied: pyparsing<3.1,>=2.3.1 in /usr/lib/python3/dist-packages (from matplotlib->-r requirements.txt (line 7)) (2.4.7)\n",
      "Requirement already satisfied: certifi>=2017.4.17 in /usr/lib/python3/dist-packages (from requests->-r requirements.txt (line 8)) (2020.6.20)\n",
      "Requirement already satisfied: urllib3<3,>=1.21.1 in /home/robert/.local/lib/python3.10/site-packages (from requests->-r requirements.txt (line 8)) (1.26.16)\n",
      "Requirement already satisfied: charset-normalizer<4,>=2 in /home/robert/.local/lib/python3.10/site-packages (from requests->-r requirements.txt (line 8)) (3.2.0)\n",
      "Requirement already satisfied: idna<4,>=2.5 in /usr/lib/python3/dist-packages (from requests->-r requirements.txt (line 8)) (3.3)\n",
      "Requirement already satisfied: six>=1.5 in /usr/lib/python3/dist-packages (from python-dateutil>=2.7->matplotlib->-r requirements.txt (line 7)) (1.16.0)\n"
     ]
    }
   ],
   "source": [
    "import sys\n",
    "!{sys.executable} -m pip install pymoo\n",
    "!{sys.executable} -m pip install -r requirements.txt"
   ]
  },
  {
   "cell_type": "code",
   "execution_count": 4,
   "id": "f3629565-00c7-47b5-83d5-1d2c88ab2434",
   "metadata": {},
   "outputs": [],
   "source": [
    "from pymoo.algorithms.moo.moead import MOEAD\n",
    "from pymoo.optimize import minimize\n",
    "from pymoo.problems import get_problem\n",
    "from pymoo.util.ref_dirs import get_reference_directions\n",
    "from pymoo.visualization.scatter import Scatter\n",
    "from pymoo.problems.functional import FunctionalProblem\n",
    "from pymoo.operators.repair.rounding import RoundingRepair\n",
    "from pymoo.operators.sampling.rnd import IntegerRandomSampling\n",
    "from pymoo.operators.crossover.sbx import SBX\n",
    "from pymoo.operators.mutation.pm import PM\n",
    "from pymoo.util import plotting\n",
    "\n",
    "import ctypes\n",
    "import matplotlib.pyplot as plt\n",
    "import numpy as np\n",
    "import json\n",
    "import os\n",
    "from datetime import datetime"
   ]
  },
  {
   "cell_type": "code",
   "execution_count": 5,
   "id": "c4ef5ab2",
   "metadata": {},
   "outputs": [],
   "source": [
    "n_var = 82"
   ]
  },
  {
   "cell_type": "code",
   "execution_count": 6,
   "id": "c94c65a4",
   "metadata": {},
   "outputs": [
    {
     "name": "stderr",
     "output_type": "stream",
     "text": [
      "sh: 1: c: not found\n"
     ]
    },
    {
     "ename": "ValueError",
     "evalue": "Number of rows must be a positive integer, not None",
     "output_type": "error",
     "traceback": [
      "\u001b[0;31m---------------------------------------------------------------------------\u001b[0m",
      "\u001b[0;31mValueError\u001b[0m                                Traceback (most recent call last)",
      "Cell \u001b[0;32mIn[6], line 61\u001b[0m\n\u001b[1;32m     58\u001b[0m \u001b[38;5;66;03m# Scatter().add(ref_dirs).show()\u001b[39;00m\n\u001b[1;32m     60\u001b[0m F \u001b[38;5;241m=\u001b[39m problem\u001b[38;5;241m.\u001b[39mpareto_front()\n\u001b[0;32m---> 61\u001b[0m \u001b[43mScatter\u001b[49m\u001b[43m(\u001b[49m\u001b[43m)\u001b[49m\u001b[38;5;241;43m.\u001b[39;49m\u001b[43madd\u001b[49m\u001b[43m(\u001b[49m\u001b[43mF\u001b[49m\u001b[43m)\u001b[49m\u001b[38;5;241;43m.\u001b[39;49m\u001b[43mshow\u001b[49m\u001b[43m(\u001b[49m\u001b[43m)\u001b[49m\n",
      "File \u001b[0;32m~/.local/lib/python3.10/site-packages/pymoo/core/plot.py:172\u001b[0m, in \u001b[0;36mPlot.show\u001b[0;34m(self, **kwargs)\u001b[0m\n\u001b[1;32m    171\u001b[0m \u001b[38;5;28;01mdef\u001b[39;00m \u001b[38;5;21mshow\u001b[39m(\u001b[38;5;28mself\u001b[39m, \u001b[38;5;241m*\u001b[39m\u001b[38;5;241m*\u001b[39mkwargs):\n\u001b[0;32m--> 172\u001b[0m     \u001b[38;5;28;43mself\u001b[39;49m\u001b[38;5;241;43m.\u001b[39;49m\u001b[43mplot_if_not_done_yet\u001b[49m\u001b[43m(\u001b[49m\u001b[43m)\u001b[49m\n\u001b[1;32m    174\u001b[0m     \u001b[38;5;66;03m# in a notebook the plot method need not to be called explicitly\u001b[39;00m\n\u001b[1;32m    175\u001b[0m     \u001b[38;5;28;01mif\u001b[39;00m \u001b[38;5;129;01mnot\u001b[39;00m in_notebook() \u001b[38;5;129;01mand\u001b[39;00m matplotlib\u001b[38;5;241m.\u001b[39mget_backend() \u001b[38;5;241m!=\u001b[39m \u001b[38;5;124m\"\u001b[39m\u001b[38;5;124magg\u001b[39m\u001b[38;5;124m\"\u001b[39m:\n",
      "File \u001b[0;32m~/.local/lib/python3.10/site-packages/pymoo/core/plot.py:169\u001b[0m, in \u001b[0;36mPlot.plot_if_not_done_yet\u001b[0;34m(self)\u001b[0m\n\u001b[1;32m    167\u001b[0m \u001b[38;5;28;01mdef\u001b[39;00m \u001b[38;5;21mplot_if_not_done_yet\u001b[39m(\u001b[38;5;28mself\u001b[39m):\n\u001b[1;32m    168\u001b[0m     \u001b[38;5;28;01mif\u001b[39;00m \u001b[38;5;28mself\u001b[39m\u001b[38;5;241m.\u001b[39max \u001b[38;5;129;01mis\u001b[39;00m \u001b[38;5;28;01mNone\u001b[39;00m:\n\u001b[0;32m--> 169\u001b[0m         \u001b[38;5;28;43mself\u001b[39;49m\u001b[38;5;241;43m.\u001b[39;49m\u001b[43mdo\u001b[49m\u001b[43m(\u001b[49m\u001b[43m)\u001b[49m\n",
      "File \u001b[0;32m~/.local/lib/python3.10/site-packages/pymoo/core/plot.py:114\u001b[0m, in \u001b[0;36mPlot.do\u001b[0;34m(self)\u001b[0m\n\u001b[1;32m    111\u001b[0m     \u001b[38;5;28mself\u001b[39m\u001b[38;5;241m.\u001b[39mn_dim \u001b[38;5;241m=\u001b[39m unique_dim[\u001b[38;5;241m0\u001b[39m]\n\u001b[1;32m    113\u001b[0m \u001b[38;5;66;03m# actually call the class\u001b[39;00m\n\u001b[0;32m--> 114\u001b[0m \u001b[38;5;28;43mself\u001b[39;49m\u001b[38;5;241;43m.\u001b[39;49m\u001b[43m_do\u001b[49m\u001b[43m(\u001b[49m\u001b[43m)\u001b[49m\n\u001b[1;32m    116\u001b[0m \u001b[38;5;66;03m# convert the axes to a list\u001b[39;00m\n\u001b[1;32m    117\u001b[0m axes \u001b[38;5;241m=\u001b[39m np\u001b[38;5;241m.\u001b[39marray(\u001b[38;5;28mself\u001b[39m\u001b[38;5;241m.\u001b[39max)\u001b[38;5;241m.\u001b[39mflatten()\n",
      "File \u001b[0;32m~/.local/lib/python3.10/site-packages/pymoo/visualization/scatter.py:145\u001b[0m, in \u001b[0;36mScatter._do\u001b[0;34m(self)\u001b[0m\n\u001b[1;32m    143\u001b[0m     plot_3d(\u001b[38;5;28mself\u001b[39m, \u001b[38;5;28mself\u001b[39m\u001b[38;5;241m.\u001b[39mangle)\n\u001b[1;32m    144\u001b[0m \u001b[38;5;28;01melse\u001b[39;00m:\n\u001b[0;32m--> 145\u001b[0m     \u001b[43mplot_pairwise\u001b[49m\u001b[43m(\u001b[49m\u001b[38;5;28;43mself\u001b[39;49m\u001b[43m)\u001b[49m\n\u001b[1;32m    147\u001b[0m \u001b[38;5;28;01mreturn\u001b[39;00m \u001b[38;5;28mself\u001b[39m\n",
      "File \u001b[0;32m~/.local/lib/python3.10/site-packages/pymoo/visualization/scatter.py:57\u001b[0m, in \u001b[0;36mplot_pairwise\u001b[0;34m(sc)\u001b[0m\n\u001b[1;32m     56\u001b[0m \u001b[38;5;28;01mdef\u001b[39;00m \u001b[38;5;21mplot_pairwise\u001b[39m(sc):\n\u001b[0;32m---> 57\u001b[0m     \u001b[43msc\u001b[49m\u001b[38;5;241;43m.\u001b[39;49m\u001b[43minit_figure\u001b[49m\u001b[43m(\u001b[49m\u001b[43mn_rows\u001b[49m\u001b[38;5;241;43m=\u001b[39;49m\u001b[43msc\u001b[49m\u001b[38;5;241;43m.\u001b[39;49m\u001b[43mn_dim\u001b[49m\u001b[43m,\u001b[49m\u001b[43m \u001b[49m\u001b[43mn_cols\u001b[49m\u001b[38;5;241;43m=\u001b[39;49m\u001b[43msc\u001b[49m\u001b[38;5;241;43m.\u001b[39;49m\u001b[43mn_dim\u001b[49m\u001b[43m)\u001b[49m\n\u001b[1;32m     58\u001b[0m     labels \u001b[38;5;241m=\u001b[39m sc\u001b[38;5;241m.\u001b[39mget_labels()\n\u001b[1;32m     60\u001b[0m     \u001b[38;5;28;01mfor\u001b[39;00m k, (F, kwargs) \u001b[38;5;129;01min\u001b[39;00m \u001b[38;5;28menumerate\u001b[39m(sc\u001b[38;5;241m.\u001b[39mto_plot):\n",
      "File \u001b[0;32m~/.local/lib/python3.10/site-packages/pymoo/core/plot.py:94\u001b[0m, in \u001b[0;36mPlot.init_figure\u001b[0;34m(self, n_rows, n_cols, plot_3D, force_axes_as_matrix)\u001b[0m\n\u001b[1;32m     91\u001b[0m     \u001b[38;5;28;01mreturn\u001b[39;00m\n\u001b[1;32m     93\u001b[0m \u001b[38;5;28;01mif\u001b[39;00m \u001b[38;5;129;01mnot\u001b[39;00m plot_3D:\n\u001b[0;32m---> 94\u001b[0m     \u001b[38;5;28mself\u001b[39m\u001b[38;5;241m.\u001b[39mfig, \u001b[38;5;28mself\u001b[39m\u001b[38;5;241m.\u001b[39max \u001b[38;5;241m=\u001b[39m \u001b[43mplt\u001b[49m\u001b[38;5;241;43m.\u001b[39;49m\u001b[43msubplots\u001b[49m\u001b[43m(\u001b[49m\u001b[43mnrows\u001b[49m\u001b[38;5;241;43m=\u001b[39;49m\u001b[43mn_rows\u001b[49m\u001b[43m,\u001b[49m\u001b[43m \u001b[49m\u001b[43mncols\u001b[49m\u001b[38;5;241;43m=\u001b[39;49m\u001b[43mn_cols\u001b[49m\u001b[43m,\u001b[49m\u001b[43m \u001b[49m\u001b[43mfigsize\u001b[49m\u001b[38;5;241;43m=\u001b[39;49m\u001b[38;5;28;43mself\u001b[39;49m\u001b[38;5;241;43m.\u001b[39;49m\u001b[43mfigsize\u001b[49m\u001b[43m)\u001b[49m\n\u001b[1;32m     95\u001b[0m \u001b[38;5;28;01melse\u001b[39;00m:\n\u001b[1;32m     96\u001b[0m     importlib\u001b[38;5;241m.\u001b[39mimport_module(\u001b[38;5;124m\"\u001b[39m\u001b[38;5;124mmpl_toolkits.mplot3d\u001b[39m\u001b[38;5;124m\"\u001b[39m)\n",
      "File \u001b[0;32m~/.local/lib/python3.10/site-packages/matplotlib/pyplot.py:1502\u001b[0m, in \u001b[0;36msubplots\u001b[0;34m(nrows, ncols, sharex, sharey, squeeze, width_ratios, height_ratios, subplot_kw, gridspec_kw, **fig_kw)\u001b[0m\n\u001b[1;32m   1358\u001b[0m \u001b[38;5;250m\u001b[39m\u001b[38;5;124;03m\"\"\"\u001b[39;00m\n\u001b[1;32m   1359\u001b[0m \u001b[38;5;124;03mCreate a figure and a set of subplots.\u001b[39;00m\n\u001b[1;32m   1360\u001b[0m \n\u001b[0;32m   (...)\u001b[0m\n\u001b[1;32m   1499\u001b[0m \n\u001b[1;32m   1500\u001b[0m \u001b[38;5;124;03m\"\"\"\u001b[39;00m\n\u001b[1;32m   1501\u001b[0m fig \u001b[38;5;241m=\u001b[39m figure(\u001b[38;5;241m*\u001b[39m\u001b[38;5;241m*\u001b[39mfig_kw)\n\u001b[0;32m-> 1502\u001b[0m axs \u001b[38;5;241m=\u001b[39m \u001b[43mfig\u001b[49m\u001b[38;5;241;43m.\u001b[39;49m\u001b[43msubplots\u001b[49m\u001b[43m(\u001b[49m\u001b[43mnrows\u001b[49m\u001b[38;5;241;43m=\u001b[39;49m\u001b[43mnrows\u001b[49m\u001b[43m,\u001b[49m\u001b[43m \u001b[49m\u001b[43mncols\u001b[49m\u001b[38;5;241;43m=\u001b[39;49m\u001b[43mncols\u001b[49m\u001b[43m,\u001b[49m\u001b[43m \u001b[49m\u001b[43msharex\u001b[49m\u001b[38;5;241;43m=\u001b[39;49m\u001b[43msharex\u001b[49m\u001b[43m,\u001b[49m\u001b[43m \u001b[49m\u001b[43msharey\u001b[49m\u001b[38;5;241;43m=\u001b[39;49m\u001b[43msharey\u001b[49m\u001b[43m,\u001b[49m\n\u001b[1;32m   1503\u001b[0m \u001b[43m                   \u001b[49m\u001b[43msqueeze\u001b[49m\u001b[38;5;241;43m=\u001b[39;49m\u001b[43msqueeze\u001b[49m\u001b[43m,\u001b[49m\u001b[43m \u001b[49m\u001b[43msubplot_kw\u001b[49m\u001b[38;5;241;43m=\u001b[39;49m\u001b[43msubplot_kw\u001b[49m\u001b[43m,\u001b[49m\n\u001b[1;32m   1504\u001b[0m \u001b[43m                   \u001b[49m\u001b[43mgridspec_kw\u001b[49m\u001b[38;5;241;43m=\u001b[39;49m\u001b[43mgridspec_kw\u001b[49m\u001b[43m,\u001b[49m\u001b[43m \u001b[49m\u001b[43mheight_ratios\u001b[49m\u001b[38;5;241;43m=\u001b[39;49m\u001b[43mheight_ratios\u001b[49m\u001b[43m,\u001b[49m\n\u001b[1;32m   1505\u001b[0m \u001b[43m                   \u001b[49m\u001b[43mwidth_ratios\u001b[49m\u001b[38;5;241;43m=\u001b[39;49m\u001b[43mwidth_ratios\u001b[49m\u001b[43m)\u001b[49m\n\u001b[1;32m   1506\u001b[0m \u001b[38;5;28;01mreturn\u001b[39;00m fig, axs\n",
      "File \u001b[0;32m~/.local/lib/python3.10/site-packages/matplotlib/figure.py:916\u001b[0m, in \u001b[0;36mFigureBase.subplots\u001b[0;34m(self, nrows, ncols, sharex, sharey, squeeze, width_ratios, height_ratios, subplot_kw, gridspec_kw)\u001b[0m\n\u001b[1;32m    912\u001b[0m         \u001b[38;5;28;01mraise\u001b[39;00m \u001b[38;5;167;01mValueError\u001b[39;00m(\u001b[38;5;124m\"\u001b[39m\u001b[38;5;124m'\u001b[39m\u001b[38;5;124mwidth_ratios\u001b[39m\u001b[38;5;124m'\u001b[39m\u001b[38;5;124m must not be defined both as \u001b[39m\u001b[38;5;124m\"\u001b[39m\n\u001b[1;32m    913\u001b[0m                          \u001b[38;5;124m\"\u001b[39m\u001b[38;5;124mparameter and as key in \u001b[39m\u001b[38;5;124m'\u001b[39m\u001b[38;5;124mgridspec_kw\u001b[39m\u001b[38;5;124m'\u001b[39m\u001b[38;5;124m\"\u001b[39m)\n\u001b[1;32m    914\u001b[0m     gridspec_kw[\u001b[38;5;124m'\u001b[39m\u001b[38;5;124mwidth_ratios\u001b[39m\u001b[38;5;124m'\u001b[39m] \u001b[38;5;241m=\u001b[39m width_ratios\n\u001b[0;32m--> 916\u001b[0m gs \u001b[38;5;241m=\u001b[39m \u001b[38;5;28;43mself\u001b[39;49m\u001b[38;5;241;43m.\u001b[39;49m\u001b[43madd_gridspec\u001b[49m\u001b[43m(\u001b[49m\u001b[43mnrows\u001b[49m\u001b[43m,\u001b[49m\u001b[43m \u001b[49m\u001b[43mncols\u001b[49m\u001b[43m,\u001b[49m\u001b[43m \u001b[49m\u001b[43mfigure\u001b[49m\u001b[38;5;241;43m=\u001b[39;49m\u001b[38;5;28;43mself\u001b[39;49m\u001b[43m,\u001b[49m\u001b[43m \u001b[49m\u001b[38;5;241;43m*\u001b[39;49m\u001b[38;5;241;43m*\u001b[39;49m\u001b[43mgridspec_kw\u001b[49m\u001b[43m)\u001b[49m\n\u001b[1;32m    917\u001b[0m axs \u001b[38;5;241m=\u001b[39m gs\u001b[38;5;241m.\u001b[39msubplots(sharex\u001b[38;5;241m=\u001b[39msharex, sharey\u001b[38;5;241m=\u001b[39msharey, squeeze\u001b[38;5;241m=\u001b[39msqueeze,\n\u001b[1;32m    918\u001b[0m                   subplot_kw\u001b[38;5;241m=\u001b[39msubplot_kw)\n\u001b[1;32m    919\u001b[0m \u001b[38;5;28;01mreturn\u001b[39;00m axs\n",
      "File \u001b[0;32m~/.local/lib/python3.10/site-packages/matplotlib/figure.py:1544\u001b[0m, in \u001b[0;36mFigureBase.add_gridspec\u001b[0;34m(self, nrows, ncols, **kwargs)\u001b[0m\n\u001b[1;32m   1505\u001b[0m \u001b[38;5;250m\u001b[39m\u001b[38;5;124;03m\"\"\"\u001b[39;00m\n\u001b[1;32m   1506\u001b[0m \u001b[38;5;124;03mReturn a `.GridSpec` that has this figure as a parent.  This allows\u001b[39;00m\n\u001b[1;32m   1507\u001b[0m \u001b[38;5;124;03mcomplex layout of Axes in the figure.\u001b[39;00m\n\u001b[0;32m   (...)\u001b[0m\n\u001b[1;32m   1540\u001b[0m \n\u001b[1;32m   1541\u001b[0m \u001b[38;5;124;03m\"\"\"\u001b[39;00m\n\u001b[1;32m   1543\u001b[0m _ \u001b[38;5;241m=\u001b[39m kwargs\u001b[38;5;241m.\u001b[39mpop(\u001b[38;5;124m'\u001b[39m\u001b[38;5;124mfigure\u001b[39m\u001b[38;5;124m'\u001b[39m, \u001b[38;5;28;01mNone\u001b[39;00m)  \u001b[38;5;66;03m# pop in case user has added this...\u001b[39;00m\n\u001b[0;32m-> 1544\u001b[0m gs \u001b[38;5;241m=\u001b[39m \u001b[43mGridSpec\u001b[49m\u001b[43m(\u001b[49m\u001b[43mnrows\u001b[49m\u001b[38;5;241;43m=\u001b[39;49m\u001b[43mnrows\u001b[49m\u001b[43m,\u001b[49m\u001b[43m \u001b[49m\u001b[43mncols\u001b[49m\u001b[38;5;241;43m=\u001b[39;49m\u001b[43mncols\u001b[49m\u001b[43m,\u001b[49m\u001b[43m \u001b[49m\u001b[43mfigure\u001b[49m\u001b[38;5;241;43m=\u001b[39;49m\u001b[38;5;28;43mself\u001b[39;49m\u001b[43m,\u001b[49m\u001b[43m \u001b[49m\u001b[38;5;241;43m*\u001b[39;49m\u001b[38;5;241;43m*\u001b[39;49m\u001b[43mkwargs\u001b[49m\u001b[43m)\u001b[49m\n\u001b[1;32m   1545\u001b[0m \u001b[38;5;28;01mreturn\u001b[39;00m gs\n",
      "File \u001b[0;32m~/.local/lib/python3.10/site-packages/matplotlib/gridspec.py:379\u001b[0m, in \u001b[0;36mGridSpec.__init__\u001b[0;34m(self, nrows, ncols, figure, left, bottom, right, top, wspace, hspace, width_ratios, height_ratios)\u001b[0m\n\u001b[1;32m    376\u001b[0m \u001b[38;5;28mself\u001b[39m\u001b[38;5;241m.\u001b[39mhspace \u001b[38;5;241m=\u001b[39m hspace\n\u001b[1;32m    377\u001b[0m \u001b[38;5;28mself\u001b[39m\u001b[38;5;241m.\u001b[39mfigure \u001b[38;5;241m=\u001b[39m figure\n\u001b[0;32m--> 379\u001b[0m \u001b[38;5;28;43msuper\u001b[39;49m\u001b[43m(\u001b[49m\u001b[43m)\u001b[49m\u001b[38;5;241;43m.\u001b[39;49m\u001b[38;5;21;43m__init__\u001b[39;49m\u001b[43m(\u001b[49m\u001b[43mnrows\u001b[49m\u001b[43m,\u001b[49m\u001b[43m \u001b[49m\u001b[43mncols\u001b[49m\u001b[43m,\u001b[49m\n\u001b[1;32m    380\u001b[0m \u001b[43m                 \u001b[49m\u001b[43mwidth_ratios\u001b[49m\u001b[38;5;241;43m=\u001b[39;49m\u001b[43mwidth_ratios\u001b[49m\u001b[43m,\u001b[49m\n\u001b[1;32m    381\u001b[0m \u001b[43m                 \u001b[49m\u001b[43mheight_ratios\u001b[49m\u001b[38;5;241;43m=\u001b[39;49m\u001b[43mheight_ratios\u001b[49m\u001b[43m)\u001b[49m\n",
      "File \u001b[0;32m~/.local/lib/python3.10/site-packages/matplotlib/gridspec.py:49\u001b[0m, in \u001b[0;36mGridSpecBase.__init__\u001b[0;34m(self, nrows, ncols, height_ratios, width_ratios)\u001b[0m\n\u001b[1;32m     34\u001b[0m \u001b[38;5;250m\u001b[39m\u001b[38;5;124;03m\"\"\"\u001b[39;00m\n\u001b[1;32m     35\u001b[0m \u001b[38;5;124;03mParameters\u001b[39;00m\n\u001b[1;32m     36\u001b[0m \u001b[38;5;124;03m----------\u001b[39;00m\n\u001b[0;32m   (...)\u001b[0m\n\u001b[1;32m     46\u001b[0m \u001b[38;5;124;03m    If not given, all rows will have the same height.\u001b[39;00m\n\u001b[1;32m     47\u001b[0m \u001b[38;5;124;03m\"\"\"\u001b[39;00m\n\u001b[1;32m     48\u001b[0m \u001b[38;5;28;01mif\u001b[39;00m \u001b[38;5;129;01mnot\u001b[39;00m \u001b[38;5;28misinstance\u001b[39m(nrows, Integral) \u001b[38;5;129;01mor\u001b[39;00m nrows \u001b[38;5;241m<\u001b[39m\u001b[38;5;241m=\u001b[39m \u001b[38;5;241m0\u001b[39m:\n\u001b[0;32m---> 49\u001b[0m     \u001b[38;5;28;01mraise\u001b[39;00m \u001b[38;5;167;01mValueError\u001b[39;00m(\n\u001b[1;32m     50\u001b[0m         \u001b[38;5;124mf\u001b[39m\u001b[38;5;124m\"\u001b[39m\u001b[38;5;124mNumber of rows must be a positive integer, not \u001b[39m\u001b[38;5;132;01m{\u001b[39;00mnrows\u001b[38;5;132;01m!r}\u001b[39;00m\u001b[38;5;124m\"\u001b[39m)\n\u001b[1;32m     51\u001b[0m \u001b[38;5;28;01mif\u001b[39;00m \u001b[38;5;129;01mnot\u001b[39;00m \u001b[38;5;28misinstance\u001b[39m(ncols, Integral) \u001b[38;5;129;01mor\u001b[39;00m ncols \u001b[38;5;241m<\u001b[39m\u001b[38;5;241m=\u001b[39m \u001b[38;5;241m0\u001b[39m:\n\u001b[1;32m     52\u001b[0m     \u001b[38;5;28;01mraise\u001b[39;00m \u001b[38;5;167;01mValueError\u001b[39;00m(\n\u001b[1;32m     53\u001b[0m         \u001b[38;5;124mf\u001b[39m\u001b[38;5;124m\"\u001b[39m\u001b[38;5;124mNumber of columns must be a positive integer, not \u001b[39m\u001b[38;5;132;01m{\u001b[39;00mncols\u001b[38;5;132;01m!r}\u001b[39;00m\u001b[38;5;124m\"\u001b[39m)\n",
      "\u001b[0;31mValueError\u001b[0m: Number of rows must be a positive integer, not None"
     ]
    },
    {
     "data": {
      "text/plain": [
       "<Figure size 800x600 with 0 Axes>"
      ]
     },
     "metadata": {},
     "output_type": "display_data"
    }
   ],
   "source": [
    "\n",
    "SAVE_DIR = \"data\"\n",
    "\n",
    "os.system(\"c\")\n",
    "\n",
    "library = ctypes.cdll.LoadLibrary('./consensus.so')\n",
    "\n",
    "consensus_time = library.consensus_time\n",
    "consensus_time.argtypes = [ctypes.c_char_p]\n",
    "consensus_time.restype = ctypes.c_void_p\n",
    "\n",
    "counter_array = []\n",
    "for i in range(n_var):\n",
    "    counter_array.append(i)\n",
    "counter_array = np.array(counter_array)\n",
    "# print(counter_array)\n",
    "\n",
    "def fitness(x):\n",
    "    # print(x)\n",
    "    genetics = counter_array[x.astype(bool)]\n",
    "    genetics = genetics.astype(np.int64).tolist()\n",
    "    # print(genetics)\n",
    "    document = {\n",
    "        \"ids\": genetics\n",
    "    }\n",
    "    out = consensus_time(json.dumps(document).encode('utf-8'))\n",
    "    if out == 1:\n",
    "        # print(\"FAILURE\")\n",
    "        return 99999999999999999\n",
    "    else:\n",
    "        print(out)\n",
    "        return out\n",
    "\n",
    "\n",
    "\n",
    "\n",
    "# problem = get_problem(\"dtlz2\")\n",
    "objs = [\n",
    "    lambda x: fitness(x),\n",
    "    lambda x: -np.sum(x)\n",
    "]\n",
    "\n",
    "# constr_ieq = [\n",
    "#     lambda x: \n",
    "# ]\n",
    "\n",
    "\n",
    "\n",
    "problem = FunctionalProblem(n_var,\n",
    "                            objs,\n",
    "                            # constr_ieq=constr_ieq,\n",
    "                            xl=np.array([0]*n_var),\n",
    "                            xu=np.array([1]*n_var)\n",
    "                            )\n",
    "# print(problem)\n",
    "\n",
    "ref_dirs = get_reference_directions(\"uniform\", 2, n_partitions=81)\n",
    "\n",
    "# Scatter().add(ref_dirs).show()\n",
    "\n",
    "# F = problem.pareto_front()\n",
    "# Scatter().add(F).show()\n"
   ]
  },
  {
   "cell_type": "code",
   "execution_count": 153,
   "id": "df2fb11f",
   "metadata": {},
   "outputs": [
    {
     "name": "stdout",
     "output_type": "stream",
     "text": [
      "==========================================================\n",
      "n_gen  |  n_eval  | n_nds  |      eps      |   indicator  \n",
      "==========================================================\n",
      "     1 |       82 |      1 |             - |             -\n",
      "     2 |      164 |     75 |  6.0000000000 |         ideal\n",
      "     3 |      246 |     75 |  2.0000000000 |         ideal\n",
      "     4 |      328 |     81 |  0.000000E+00 |             f\n",
      "     5 |      410 |     81 |  0.000000E+00 |             f\n",
      "     6 |      492 |     50 |  2.0000000000 |         ideal\n",
      "     7 |      574 |     81 |  0.000000E+00 |             f\n",
      "     8 |      656 |     65 |  1.0000000000 |         ideal\n",
      "     9 |      738 |     81 |  2.0000000000 |         ideal\n",
      "    10 |      820 |     81 |  0.000000E+00 |             f\n",
      "    11 |      902 |     69 |  1.0000000000 |         ideal\n",
      "    12 |      984 |     72 |  1.0000000000 |         ideal\n",
      "    13 |     1066 |     81 |  0.000000E+00 |             f\n",
      "    14 |     1148 |     81 |  0.000000E+00 |             f\n",
      "    15 |     1230 |     81 |  0.000000E+00 |             f\n",
      "    16 |     1312 |     81 |  0.000000E+00 |             f\n",
      "    17 |     1394 |     81 |  0.000000E+00 |             f\n",
      "    18 |     1476 |     81 |  1.0000000000 |         ideal\n",
      "    19 |     1558 |     76 |  1.0000000000 |         ideal\n",
      "    20 |     1640 |     81 |  0.000000E+00 |             f\n",
      "    21 |     1722 |     81 |  0.000000E+00 |             f\n",
      "    22 |     1804 |     81 |  0.000000E+00 |             f\n",
      "    23 |     1886 |     81 |  0.000000E+00 |             f\n",
      "    24 |     1968 |     81 |  0.000000E+00 |             f\n",
      "    25 |     2050 |     69 |  1.0000000000 |         ideal\n",
      "    26 |     2132 |     81 |  0.000000E+00 |             f\n",
      "    27 |     2214 |     81 |  0.000000E+00 |             f\n",
      "    28 |     2296 |     81 |  0.000000E+00 |             f\n",
      "    29 |     2378 |     81 |  1.0000000000 |         ideal\n",
      "    30 |     2460 |     81 |  0.000000E+00 |             f\n",
      "    31 |     2542 |     81 |  0.000000E+00 |             f\n",
      "    32 |     2624 |     81 |  1.0000000000 |         ideal\n",
      "    33 |     2706 |     81 |  0.000000E+00 |             f\n",
      "    34 |     2788 |     81 |  1.0000000000 |         ideal\n",
      "    35 |     2870 |     63 |  1.0000000000 |         ideal\n",
      "    36 |     2952 |     81 |  1.0000000000 |         ideal\n",
      "    37 |     3034 |     81 |  0.000000E+00 |             f\n",
      "    38 |     3116 |     81 |  0.000000E+00 |             f\n",
      "    39 |     3198 |     81 |  0.000000E+00 |             f\n",
      "    40 |     3280 |     81 |  0.000000E+00 |             f\n",
      "    41 |     3362 |     14 |  1.0000000000 |         ideal\n",
      "    42 |     3444 |     81 |  1.0000000000 |         ideal\n",
      "    43 |     3526 |     81 |  0.000000E+00 |             f\n",
      "    44 |     3608 |     81 |  0.000000E+00 |             f\n",
      "    45 |     3690 |     81 |  0.000000E+00 |             f\n",
      "    46 |     3772 |     81 |  0.000000E+00 |             f\n",
      "    47 |     3854 |     81 |  0.000000E+00 |             f\n",
      "    48 |     3936 |     81 |  0.000000E+00 |             f\n",
      "    49 |     4018 |     81 |  0.000000E+00 |             f\n",
      "    50 |     4100 |     81 |  0.000000E+00 |             f\n"
     ]
    }
   ],
   "source": [
    "algorithm = MOEAD(\n",
    "    ref_dirs,\n",
    "    n_neighbors=15,\n",
    "    prob_neighbor_mating=0.7,\n",
    "    sampling=IntegerRandomSampling(),\n",
    "    crossover=SBX(prob=1.0, eta=3.0, vtype=float, repair=RoundingRepair()),\n",
    "    mutation=PM(prob=1.0, eta=3.0, vtype=float, repair=RoundingRepair()),\n",
    "    save_history=True\n",
    ")\n",
    "\n",
    "res = minimize(problem,\n",
    "               algorithm,\n",
    "               ('n_gen', 50),\n",
    "               seed=1,\n",
    "               verbose=True)"
   ]
  },
  {
   "cell_type": "code",
   "execution_count": 148,
   "id": "12c2bc97",
   "metadata": {},
   "outputs": [
    {
     "data": {
      "image/png": "[encoded data removed]",
      "text/plain": [
       "<Figure size 640x480 with 1 Axes>"
      ]
     },
     "metadata": {},
     "output_type": "display_data"
    }
   ],
   "source": [
    "_X = np.row_stack([a.pop.get(\"X\") for a in res.history])\n",
    "_F = np.row_stack([a.pop.get(\"F\") for a in res.history])\n",
    "\n",
    "for a in res.history:\n",
    "    good_F = a.pop.get(\"F\")[99999999999999999 > a.pop.get(\"F\")[:,0]]\n",
    "    plt.scatter(-good_F[:,1], good_F[:,0])\n",
    "\n",
    "feasible = np.row_stack([a.pop.get(\"feasible\") for a in res.history])[:, 0]\n",
    "\n",
    "\n",
    "np.savez(\"data/results\", feasible=_X[feasible], infeasible=_X[np.logical_not(feasible)], best=res.X[None,:] )\n",
    "\n",
    "# plotting.plot(_X[feasible], _X[np.logical_not(feasible)], res.X[None,:]\n",
    "#               , labels=[\"Feasible\", \"Infeasible\", \"Best\"])\n",
    "\n",
    "# print(np.shape(_X[feasible]))\n",
    "# print(np.shape(_F[feasible]))\n",
    "\n",
    "# print(np.sum(_X[feasible], axis=1))\n",
    "# print(_F[feasible][:,1])\n",
    "# fitness_li = []\n",
    "# for i in range(len(_X[feasible])):\n",
    "# #     print( fitness(_X[feasible][i]))\n",
    "#     fitness_li.append(fitness(_X[feasible][i]))"
   ]
  },
  {
   "cell_type": "code",
   "execution_count": null,
   "id": "c1a55b78",
   "metadata": {},
   "outputs": [],
   "source": []
  }
 ],
 "metadata": {
  "kernelspec": {
   "display_name": "Python 3 (ipykernel)",
   "language": "python",
   "name": "python3"
  },
  "language_info": {
   "codemirror_mode": {
    "name": "ipython",
    "version": 3
   },
   "file_extension": ".py",
   "mimetype": "text/x-python",
   "name": "python",
   "nbconvert_exporter": "python",
   "pygments_lexer": "ipython3",
   "version": "3.10.12"
  }
 },
 "nbformat": 4,
 "nbformat_minor": 5
}
