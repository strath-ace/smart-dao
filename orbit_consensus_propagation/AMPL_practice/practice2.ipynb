{
 "cells": [
  {
   "cell_type": "code",
   "execution_count": 1,
   "id": "97d17462-92b4-43f7-81e5-d73287588bd1",
   "metadata": {},
   "outputs": [
    {
     "name": "stdout",
     "output_type": "stream",
     "text": [
      "Requirement already satisfied: pip in c:\\repos\\strath-ace\\smart-dao\\orbit_consensus_propagation\\venv\\lib\\site-packages (24.0)\n",
      "Note: you may need to restart the kernel to use updated packages.\n",
      "Note: you may need to restart the kernel to use updated packages.\n",
      "Licensed to AMPL Community Edition License for <robert.cowlishaw.2017@uni.strath.ac.uk>.\n"
     ]
    }
   ],
   "source": [
    "%pip install --upgrade pip\n",
    "# install dependencies and select solver\n",
    "%pip install -q amplpy matplotlib pandas\n",
    "\n",
    "SOLVER = \"highs\"\n",
    "\n",
    "from amplpy import AMPL, ampl_notebook\n",
    "\n",
    "ampl = ampl_notebook(\n",
    "    modules=[\"highs\"],  # modules to install\n",
    "    license_uuid=\"default\",  # license to use\n",
    ")  # instantiate AMPL object and register magics"
   ]
  },
  {
   "cell_type": "code",
   "execution_count": 6,
   "id": "3e8e0bb0-67e6-4730-908c-f59c7ff4f04f",
   "metadata": {},
   "outputs": [
    {
     "name": "stdout",
     "output_type": "stream",
     "text": [
      "Overwriting BIM_perturbed_MILO.mod\n"
     ]
    }
   ],
   "source": [
    "%%writefile BIM_perturbed_MILO.mod\n",
    "\n",
    "param n = 3;  # Number of commands\n",
    "\n",
    "param T = 1000;\n",
    "\n",
    "# Define decision variables\n",
    "var L {i in 1..n, j in 1..n} >= 0;  # Latency associated with command i proposed by node j\n",
    "var A {i in 1..n} >= 0;             # Latency associated with the agreement of command i\n",
    "var M {i in 1..n} >= 0;             # Latency associated with the application of command i\n",
    "\n",
    "# Total latency constraint for each command\n",
    "subject to total_latency {i in 1..n}:\n",
    "    sum{j in 1..n} L[i,j] + A[i] + M[i] <= T;  # T is the maximum allowable total latency\n",
    "\n",
    "# Ordering constraint\n",
    "subject to ordering_constraint {i in 1..n-1}:\n",
    "    M[i] + 1 <= M[i+1];\n",
    "\n",
    "subject to num_constraint {i in 1..n-1}:\n",
    "    M[i]*M[i] <= M[i+1];\n",
    "\n",
    "# Define objective function\n",
    "minimize total_total_latency:\n",
    "    sum{i in 1..n} (sum{j in 1..n} L[i,j] + A[i] + M[i]);"
   ]
  },
  {
   "cell_type": "code",
   "execution_count": 7,
   "id": "b092b49b-c5f8-46fe-890d-2acd0d944d29",
   "metadata": {},
   "outputs": [
    {
     "name": "stdout",
     "output_type": "stream",
     "text": [
      "HiGHS 1.6.0: \n",
      "------------ WARNINGS ------------\n",
      "WARNING.  2 case(s) of \"PLApprox\". One of them:\n",
      "  An expression of type 'PowConstraint' has been\n",
      "piecewise-linearly approximated. Set cvt:plapprox:reltol\n",
      "to control precision (currently 0.010000).\n",
      "WARNING.  2 case(s) of \"PLApproxDomain\". One of them:\n",
      "  Argument domain of a 'PowConstraint'\n",
      "has been reduced to [0.000000, 316.227766] for numerical reasons\n",
      "(partially controlled by cvt:plapprox:domain.)\n",
      "\bHiGHS 1.6.0: optimal solution; objective 3\n",
      "31 simplex iterations\n",
      "1 branching nodes\n",
      " \n",
      "------------ WARNINGS ------------\n",
      "WARNING.  2 case(s) of \"PLApprox\". One of them:\n",
      "  An expression of type 'PowConstraint' has been\n",
      "piecewise-linearly approximated. Set cvt:plapprox:reltol\n",
      "to control precision (currently 0.010000).\n",
      "WARNING.  2 case(s) of \"PLApproxDomain\". One of them:\n",
      "  Argument domain of a 'PowConstraint'\n",
      "has been reduced to [0.000000, 316.227766] for numerical reasons\n",
      "(partially controlled by cvt:plapprox:domain.)\n",
      "Total total latency: 3.0\n",
      "Latency values (L):\n",
      "               L.val\n",
      "index0 index1       \n",
      "1      1           0\n",
      "       2           0\n",
      "       3           0\n",
      "2      1           0\n",
      "       2           0\n",
      "       3           0\n",
      "3      1           0\n",
      "       2           0\n",
      "       3           0\n",
      "Latency values (A):\n",
      "   A.val\n",
      "1      0\n",
      "2      0\n",
      "3      0\n",
      "Latency values (M):\n",
      "   M.val\n",
      "1      0\n",
      "2      1\n",
      "3      2\n"
     ]
    }
   ],
   "source": [
    "m = AMPL()\n",
    "m.read(\"BIM_perturbed_MILO.mod\")\n",
    "\n",
    "m.option[\"solver\"] = SOLVER\n",
    "\n",
    "# Solve the model\n",
    "m.solve()\n",
    "\n",
    "# Get the objective value\n",
    "total_latency = m.getObjective('total_total_latency').value()\n",
    "\n",
    "# Get the values of decision variables\n",
    "L_values = m.getVariable('L').getValues().toPandas()\n",
    "A_values = m.getVariable('A').getValues().toPandas()\n",
    "M_values = m.getVariable('M').getValues().toPandas()\n",
    "\n",
    "# Display results\n",
    "print(\"Total total latency:\", total_latency)\n",
    "print(\"Latency values (L):\")\n",
    "print(L_values)\n",
    "print(\"Latency values (A):\")\n",
    "print(A_values)\n",
    "print(\"Latency values (M):\")\n",
    "print(M_values)\n",
    "\n",
    "# Close the AMPL instance\n",
    "ampl.close()"
   ]
  },
  {
   "cell_type": "code",
   "execution_count": null,
   "id": "64d565d6-f0ec-4085-8fe6-13752fa1c727",
   "metadata": {},
   "outputs": [],
   "source": []
  }
 ],
 "metadata": {
  "kernelspec": {
   "display_name": "Python 3 (ipykernel)",
   "language": "python",
   "name": "python3"
  },
  "language_info": {
   "codemirror_mode": {
    "name": "ipython",
    "version": 3
   },
   "file_extension": ".py",
   "mimetype": "text/x-python",
   "name": "python",
   "nbconvert_exporter": "python",
   "pygments_lexer": "ipython3",
   "version": "3.12.1"
  }
 },
 "nbformat": 4,
 "nbformat_minor": 5
}
