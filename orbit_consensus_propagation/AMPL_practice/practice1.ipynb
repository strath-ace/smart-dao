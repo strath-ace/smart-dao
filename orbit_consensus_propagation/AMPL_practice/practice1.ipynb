{
 "cells": [
  {
   "cell_type": "code",
   "execution_count": 1,
   "id": "97d17462-92b4-43f7-81e5-d73287588bd1",
   "metadata": {},
   "outputs": [
    {
     "name": "stdout",
     "output_type": "stream",
     "text": [
      "Requirement already satisfied: pip in c:\\repos\\strath-ace\\smart-dao\\orbit_consensus_propagation\\venv\\lib\\site-packages (24.0)\n",
      "Note: you may need to restart the kernel to use updated packages.\n",
      "Note: you may need to restart the kernel to use updated packages.\n",
      "Licensed to AMPL Community Edition License for <robert.cowlishaw.2017@uni.strath.ac.uk>.\n"
     ]
    }
   ],
   "source": [
    "%pip install --upgrade pip\n",
    "# install dependencies and select solver\n",
    "%pip install -q amplpy matplotlib pandas\n",
    "\n",
    "SOLVER = \"highs\"\n",
    "\n",
    "from amplpy import AMPL, ampl_notebook\n",
    "\n",
    "ampl = ampl_notebook(\n",
    "    modules=[\"highs\"],  # modules to install\n",
    "    license_uuid=\"default\",  # license to use\n",
    ")  # instantiate AMPL object and register magics"
   ]
  },
  {
   "cell_type": "code",
   "execution_count": 2,
   "id": "3e8e0bb0-67e6-4730-908c-f59c7ff4f04f",
   "metadata": {},
   "outputs": [
    {
     "name": "stdout",
     "output_type": "stream",
     "text": [
      "Overwriting BIM_perturbed_MILO.mod\n"
     ]
    }
   ],
   "source": [
    "%%writefile BIM_perturbed_MILO.mod\n",
    "\n",
    "var x1 integer >= 0;\n",
    "var x2 integer >= 0;\n",
    "\n",
    "maximize profit: 12 * x1 + 9 * x2;\n",
    "\n",
    "s.t. silicon: x1 <= 1000;\n",
    "s.t. germanium: x2 <= 1500;\n",
    "s.t. plastic: x1 + x2 <= 1750;\n",
    "s.t. copper: 4.04 * x1 + 2.02 * x2 <= 4800;"
   ]
  },
  {
   "cell_type": "code",
   "execution_count": 4,
   "id": "b092b49b-c5f8-46fe-890d-2acd0d944d29",
   "metadata": {},
   "outputs": [
    {
     "name": "stdout",
     "output_type": "stream",
     "text": [
      "HiGHS 1.6.0:HiGHS 1.6.0: optimal solution; objective 17628\n",
      "2 simplex iterations\n",
      "1 branching nodes\n",
      "x = (626.0, 1124.0)\n",
      "optimal value = 17628.00\n"
     ]
    }
   ],
   "source": [
    "m = AMPL()\n",
    "m.read(\"BIM_perturbed_MILO.mod\")\n",
    "\n",
    "m.option[\"solver\"] = SOLVER\n",
    "m.solve()\n",
    "\n",
    "print(f'x = ({m.var[\"x1\"].value():.1f}, {m.var[\"x2\"].value():.1f})')\n",
    "print(f'optimal value = {m.obj[\"profit\"].value():.2f}')"
   ]
  },
  {
   "cell_type": "code",
   "execution_count": null,
   "id": "64d565d6-f0ec-4085-8fe6-13752fa1c727",
   "metadata": {},
   "outputs": [],
   "source": []
  }
 ],
 "metadata": {
  "kernelspec": {
   "display_name": "Python 3 (ipykernel)",
   "language": "python",
   "name": "python3"
  },
  "language_info": {
   "codemirror_mode": {
    "name": "ipython",
    "version": 3
   },
   "file_extension": ".py",
   "mimetype": "text/x-python",
   "name": "python",
   "nbconvert_exporter": "python",
   "pygments_lexer": "ipython3",
   "version": "3.12.1"
  }
 },
 "nbformat": 4,
 "nbformat_minor": 5
}
