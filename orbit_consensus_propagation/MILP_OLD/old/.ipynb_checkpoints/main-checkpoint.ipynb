{
 "cells": [
  {
   "cell_type": "code",
   "execution_count": 6,
   "id": "97d17462-92b4-43f7-81e5-d73287588bd1",
   "metadata": {},
   "outputs": [
    {
     "name": "stdout",
     "output_type": "stream",
     "text": [
      "Licensed to AMPL Community Edition License for <robert.cowlishaw.2017@uni.strath.ac.uk>.\n"
     ]
    }
   ],
   "source": [
    "from amplpy import AMPL, ampl_notebook\n",
    "\n",
    "ampl = ampl_notebook(\n",
    "    modules=[\"cplex\", \"highs\", \"gurobi\"],  # modules to install\n",
    "    license_uuid=\"e46be8f4-70d2-4ac3-8f8c-08e578c54579\",  # license to use\n",
    ")  # instantiate AMPL object and register magics"
   ]
  },
  {
   "cell_type": "code",
   "execution_count": null,
   "id": "b404f16c",
   "metadata": {},
   "outputs": [],
   "source": []
  },
  {
   "cell_type": "code",
   "execution_count": 7,
   "id": "89f6641b-0996-44f8-bcc3-c31243fd2d00",
   "metadata": {
    "scrolled": true
   },
   "outputs": [],
   "source": [
    "import json\n",
    "import numpy as np\n",
    "import random\n",
    "from itertools import combinations"
   ]
  },
  {
   "cell_type": "code",
   "execution_count": 12,
   "id": "8a3804a3",
   "metadata": {
    "scrolled": true
   },
   "outputs": [],
   "source": [
    "SOLVER = \"gurobi\""
   ]
  },
  {
   "cell_type": "code",
   "execution_count": 13,
   "id": "22a4b141-8589-42bc-98b7-4812b1e98011",
   "metadata": {
    "scrolled": false
   },
   "outputs": [
    {
     "name": "stdout",
     "output_type": "stream",
     "text": [
      "Cannot find \"scip\"\n",
      "Objective is: 0.0\n",
      "[[[0 0 0 0 0 0]\n",
      "  [0 0 0 0 0 0]\n",
      "  [0 0 0 0 0 0]\n",
      "  [0 0 0 0 0 0]\n",
      "  [0 0 0 0 0 0]\n",
      "  [0 0 0 0 0 0]]\n",
      "\n",
      " [[0 0 0 0 0 0]\n",
      "  [0 0 0 0 0 0]\n",
      "  [0 0 0 0 0 0]\n",
      "  [0 0 0 0 0 0]\n",
      "  [0 0 0 0 0 0]\n",
      "  [0 0 0 0 0 0]]\n",
      "\n",
      " [[0 0 0 0 0 0]\n",
      "  [0 0 0 0 0 0]\n",
      "  [0 0 0 0 0 0]\n",
      "  [0 0 0 0 0 0]\n",
      "  [0 0 0 0 0 0]\n",
      "  [0 0 0 0 0 0]]\n",
      "\n",
      " [[0 0 0 0 0 0]\n",
      "  [0 0 0 0 0 0]\n",
      "  [0 0 0 0 0 0]\n",
      "  [0 0 0 0 0 0]\n",
      "  [0 0 0 0 0 0]\n",
      "  [0 0 0 0 0 0]]]\n"
     ]
    }
   ],
   "source": [
    "m = AMPL()\n",
    "m.read(\"objectives.mod\")\n",
    "\n",
    "m.option[\"solver\"] = SOLVER\n",
    "\n",
    "m.param[\"sat_max\"] = 6\n",
    "\n",
    "m.solve()\n",
    "\n",
    "total_cost = m.get_objective(\"X_grid\")\n",
    "print(\"Objective is:\", total_cost.get().value())\n",
    "\n",
    "X_raw = np.array(m.getVariable(\"X\").get_values().to_list())\n",
    "X = np.empty((4,6,6), dtype=int)\n",
    "X[X_raw[:,2]-1,X_raw[:,0]-1,X_raw[:,1]-1] = X_raw[:,3]\n",
    "\n",
    "print(X)\n"
   ]
  },
  {
   "cell_type": "code",
   "execution_count": null,
   "id": "638d2f4d-4f0c-4640-aa99-34ca8e96abf4",
   "metadata": {
    "scrolled": true
   },
   "outputs": [],
   "source": []
  }
 ],
 "metadata": {
  "kernelspec": {
   "display_name": "Python 3 (ipykernel)",
   "language": "python",
   "name": "python3"
  },
  "language_info": {
   "codemirror_mode": {
    "name": "ipython",
    "version": 3
   },
   "file_extension": ".py",
   "mimetype": "text/x-python",
   "name": "python",
   "nbconvert_exporter": "python",
   "pygments_lexer": "ipython3",
   "version": "3.10.12"
  }
 },
 "nbformat": 4,
 "nbformat_minor": 5
}
