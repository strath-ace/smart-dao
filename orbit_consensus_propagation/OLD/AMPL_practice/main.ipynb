{
 "cells": [
  {
   "cell_type": "code",
   "execution_count": 7,
   "id": "97d17462-92b4-43f7-81e5-d73287588bd1",
   "metadata": {},
   "outputs": [
    {
     "name": "stdout",
     "output_type": "stream",
     "text": [
      "Defaulting to user installation because normal site-packages is not writeable\n",
      "Requirement already satisfied: pip in /home/robert/.local/lib/python3.10/site-packages (24.0)\n",
      "Note: you may need to restart the kernel to use updated packages.\n",
      "Note: you may need to restart the kernel to use updated packages.\n"
     ]
    },
    {
     "name": "stderr",
     "output_type": "stream",
     "text": [
      "Widget Javascript not detected.  It may not be installed or enabled properly. Reconnecting the current kernel may help.\n"
     ]
    },
    {
     "data": {
      "application/vnd.jupyter.widget-view+json": {
       "model_id": "173a442649bc46c885db8b03ad7cbbe0"
      }
     },
     "metadata": {},
     "output_type": "display_data"
    }
   ],
   "source": [
    "%pip install --upgrade pip\n",
    "# install dependencies and select solver\n",
    "%pip install -q amplpy matplotlib pandas\n",
    "\n",
    "SOLVER = \"cplex\"\n",
    "\n",
    "from amplpy import AMPL, ampl_notebook\n",
    "\n",
    "ampl = ampl_notebook(\n",
    "    modules=[\"cplex\"],  # modules to install\n",
    "    license_uuid=\"default\",  # license to use\n",
    ")  # instantiate AMPL object and register magics"
   ]
  },
  {
   "cell_type": "code",
   "execution_count": 16,
   "id": "22a4b141-8589-42bc-98b7-4812b1e98011",
   "metadata": {
    "scrolled": true
   },
   "outputs": [
    {
     "name": "stdout",
     "output_type": "stream",
     "text": [
      "CPLEX 22.1.1.0: optimal integer solution; objective 17\n",
      "0 MIP simplex iterations\n",
      "0 branch-and-bound nodes\n",
      "Objective is: 17.0\n",
      "[1 1 1 1 1 1 0 0 0 0 0 0 0 0 0 0 0 0 0 0 0 0 0 0 0 0 0 0 0 0 0 0 0 0 0 0 0\n",
      " 0 0 0 0 0 0 0 0 0 0 0 0 0]\n"
     ]
    }
   ],
   "source": [
    "import json\n",
    "import numpy as np\n",
    "import random\n",
    "from itertools import combinations\n",
    "\n",
    "m = AMPL()\n",
    "m.read(\"objectives.mod\")\n",
    "\n",
    "m.option[\"solver\"] = SOLVER\n",
    "\n",
    "sats = []\n",
    "NUM_SATS = 6\n",
    "for i in range(NUM_SATS):\n",
    "    sats.append(i+1)\n",
    "\n",
    "timesteps = []\n",
    "for i in range(1000):\n",
    "    timesteps.append(i+1)\n",
    "\n",
    "# m.set[\"SATS\"] = list(sats.keys()) \n",
    "m.set[\"SATS_1\"] = sats\n",
    "m.set[\"SATS_2\"] = sats\n",
    "\n",
    "# m.set[\"TIMESTEPS\"] = list(timesteps.keys())\n",
    "m.set[\"TIMESTEPS\"] = timesteps\n",
    "\n",
    "m.param[\"sat_max\"] = len(sats)\n",
    "m.param[\"timestep_max\"] = len(timesteps)\n",
    "# m.param[\"cost\"] = {sat: cost for sat, (cost, _, _) in sats.items()}\n",
    "# m.param[\"f_min\"] = {sat: f_min for sat, (_, f_min, _) in sats.items()}\n",
    "# m.param[\"f_max\"] = {sat: f_max for sat, (_, _, f_max) in sats.items()}\n",
    "\n",
    "# m.param[\"n_min\"] = {time: n_min for time, (n_min, _) in timesteps.items()}\n",
    "# m.param[\"n_max\"] = {time: n_max for time, (_, n_max) in timesteps.items()}\n",
    "\n",
    "# Amounts is given as the sat at the timestep value 2D array[SATS, TIMESTEP]\n",
    "connections = []\n",
    "connections = np.empty((len(sats), len(sats)), dtype=object)\n",
    "for j in range(len(sats)):\n",
    "    for k in range(len(sats)):\n",
    "        temp = []\n",
    "        if j!=k:\n",
    "            for i in range(len(timesteps)):\n",
    "                choice = random.randint(0,1)\n",
    "                if choice == 1:\n",
    "                    temp.append(i+1)\n",
    "                else:\n",
    "                    temp.append(99999999)\n",
    "        else:\n",
    "            for i in range(len(timesteps)):\n",
    "                temp.append(len(timesteps)+1)\n",
    "        connections[j,k] = np.array(temp)\n",
    "\n",
    "m.param[\"conns\"] = {\n",
    "    (sat1, sat2, time): connections[j,k][i]\n",
    "    for i, time in enumerate(timesteps)\n",
    "    for j, sat1 in enumerate(sats)\n",
    "    for k, sat2 in enumerate(sats)\n",
    "}\n",
    "\n",
    "items = np.array(np.linspace(1, len(sats), len(sats)), dtype=int)\n",
    "comb = combinations(items, 3) \n",
    "comb = list(comb)\n",
    "comb_all = []\n",
    "for i in range(1, len(sats)):\n",
    "    for co in comb:\n",
    "        if i not in co:\n",
    "            comb_all.append(np.append([i],co))\n",
    "comb = np.array(comb_all)\n",
    "\n",
    "m.param[\"combs_num\"] = len(comb)\n",
    "\n",
    "\n",
    "\n",
    "m.param[\"c\"] = {\n",
    "    (i+1, j+1): comb[i][j]\n",
    "    for i in range(np.shape(comb)[0])\n",
    "    for j in range(np.shape(comb)[1])\n",
    "}\n",
    "\n",
    "# m.eval(\"display combinations;\")\n",
    "\n",
    "# m.eval(\"display consensus_time1234_1;\")\n",
    "\n",
    "m.solve()\n",
    "total_cost = m.get_objective(\"Total_Cost\")\n",
    "print(\"Objective is:\", total_cost.get().value())\n",
    "sats_result = np.array(m.getVariable(\"sats\").get_values().to_list())\n",
    "print(sats_result[:,1])"
   ]
  },
  {
   "cell_type": "code",
   "execution_count": null,
   "id": "8a3804a3",
   "metadata": {},
   "outputs": [],
   "source": []
  },
  {
   "cell_type": "code",
   "execution_count": null,
   "id": "89f6641b-0996-44f8-bcc3-c31243fd2d00",
   "metadata": {},
   "outputs": [],
   "source": []
  },
  {
   "cell_type": "code",
   "execution_count": null,
   "id": "638d2f4d-4f0c-4640-aa99-34ca8e96abf4",
   "metadata": {},
   "outputs": [],
   "source": []
  }
 ],
 "metadata": {
  "kernelspec": {
   "display_name": "Python 3 (ipykernel)",
   "language": "python",
   "name": "python3"
  },
  "language_info": {
   "codemirror_mode": {
    "name": "ipython",
    "version": 3
   },
   "file_extension": ".py",
   "mimetype": "text/x-python",
   "name": "python",
   "nbconvert_exporter": "python",
   "pygments_lexer": "ipython3",
   "version": "3.10.12"
  }
 },
 "nbformat": 4,
 "nbformat_minor": 5
}
