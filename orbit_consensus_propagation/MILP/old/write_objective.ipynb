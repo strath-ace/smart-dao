{
 "cells": [
  {
   "cell_type": "code",
   "execution_count": 5,
   "id": "d04d69c8-00d4-49c4-aa8a-e05482abe5c5",
   "metadata": {},
   "outputs": [
    {
     "name": "stdout",
     "output_type": "stream",
     "text": [
      "Overwriting objectives.mod\n"
     ]
    }
   ],
   "source": [
    "%%writefile objectives.mod\n",
    "\n",
    "    option display_width 150;\n",
    "\n",
    "    param sat_max >= 4;\n",
    "    param timestep_max >= 1;\n",
    "\n",
    "    # If set more than or equal too do 0\n",
    "    # If set more than do 1\n",
    "    param ADD = 1;\n",
    "\n",
    "    var X {1..sat_max,1..sat_max,1..4} binary;\n",
    "    \n",
    "    var tot_1 = sum {i in 1..sat_max, j in 1..sat_max} X[i,j,1];\n",
    "    var tot_2 = sum {i in 1..sat_max, j in 1..sat_max} X[i,j,2];\n",
    "    var tot_3 = sum {i in 1..sat_max, j in 1..sat_max} X[i,j,3];\n",
    "    var tot_4 = sum {i in 1..sat_max, j in 1..sat_max} X[i,j,4];\n",
    "    \n",
    "\n",
    "    minimize X_grid:\n",
    "    tot_1+tot_2+tot_3+tot_4\n",
    "    ;\n",
    "\n",
    "    # -------- Shape Constraints --------\n",
    "    \n",
    "    # ----- General -----\n",
    "    \n",
    "    # Diagnols are clear in all phases\n",
    "    s.t. c_diagnol: sum {i in 1..sat_max, k in 1..4} X[i,i,k] = 0;\n",
    "\n",
    "    # Counts are correct\n",
    "    s.t. c_total_1: tot_1 >= 3;\n",
    "    s.t. c_total_2: tot_2 >= tot_1 * tot_1;\n",
    "    s.t. c_total_3: tot_3 >= tot_1*(tot_1+1);\n",
    "    s.t. c_total_4: tot_4 = tot_1;\n",
    "    \n",
    "    # ----- Phase 1 -----\n",
    "    \n",
    "    # Make sure first phase is in 1 line\n",
    "    # CPLEX Solver does not work with exists (this line)\n",
    "    s.t. c_single_line: exists {i in 1..sat_max} (sum {j in 1..sat_max} X[i,j,1]) == tot_1;\n",
    "    \n",
    "    # ----- Phase 2 -----\n",
    "    \n",
    "#     s.t. c_3: sum {i in 1..sat_max} (sum {j in 1..sat_max} X[j,i,1])*(sum {j in 1..sat_max} X[i,j,2]) == tot_1*tot_1;\n",
    "#     s.t. c_4: sum {j in 1..sat_max} (sum {i in 1..sat_max} X[i,j,1])*(sum {i in 1..sat_max} X[i,j,2]) == tot_1*(tot_1-1);\n",
    "        \n",
    "    s.t. c_3: forall {i in 1..sat_max} tot_1*(sum {j in 1..sat_max} X[j,i,1]) == sum {j in 1..sat_max} X[i,j,2];\n",
    "    s.t. c_4: forall {j in 1..sat_max} (tot_1-1)*(sum {i in 1..sat_max} X[i,j,1]) == sum {i in 1..sat_max} X[i,j,2];\n",
    "    \n",
    "    # ----- Phase 3 -----\n",
    "    \n",
    "    # Phase 1 and 2 added gives phase 3\n",
    "    s.t. c_phase_3: forall {i in 1..sat_max, j in 1..sat_max} X[i,j,3] == X[i,j,1] + X[i,j,2];\n",
    "    \n",
    "    # ----- Phase 4 -----\n",
    "    \n",
    "    # Last phase is a transpose of the first phase\n",
    "    s.t. c_phase_4: forall {i in 1..sat_max, j in 1..sat_max} X[j,i,1] == X[i,j,4];\n",
    "    \n",
    "    "
   ]
  },
  {
   "cell_type": "code",
   "execution_count": null,
   "id": "6722b902-a8e4-4d9d-b887-16174c08404a",
   "metadata": {},
   "outputs": [],
   "source": []
  },
  {
   "cell_type": "code",
   "execution_count": null,
   "id": "f74926d0-86c5-48f9-80a9-1f4abcd74b3b",
   "metadata": {},
   "outputs": [],
   "source": []
  }
 ],
 "metadata": {
  "kernelspec": {
   "display_name": "Python 3 (ipykernel)",
   "language": "python",
   "name": "python3"
  },
  "language_info": {
   "codemirror_mode": {
    "name": "ipython",
    "version": 3
   },
   "file_extension": ".py",
   "mimetype": "text/x-python",
   "name": "python",
   "nbconvert_exporter": "python",
   "pygments_lexer": "ipython3",
   "version": "3.10.12"
  }
 },
 "nbformat": 4,
 "nbformat_minor": 5
}
