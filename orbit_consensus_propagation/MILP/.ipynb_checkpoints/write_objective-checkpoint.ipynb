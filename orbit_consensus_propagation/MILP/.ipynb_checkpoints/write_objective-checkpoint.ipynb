{
 "cells": [
  {
   "cell_type": "code",
   "execution_count": 68,
   "id": "d04d69c8-00d4-49c4-aa8a-e05482abe5c5",
   "metadata": {},
   "outputs": [
    {
     "name": "stdout",
     "output_type": "stream",
     "text": [
      "Overwriting objectives.mod\n"
     ]
    }
   ],
   "source": [
    "%%writefile objectives.mod\n",
    "\n",
    "    option display_width 150;\n",
    "\n",
    "    param sat_max >= 4;\n",
    "    param timestep_max >= 1;\n",
    "\n",
    "    # If set more than or equal too do 0\n",
    "    # If set more than do 1\n",
    "    param ADD = 1;\n",
    "\n",
    "    var X {1..sat_max,1..sat_max,1..4} binary;\n",
    "    \n",
    "    var tot_1 = sum {i in 1..sat_max, j in 1..sat_max} X[i,j,1];\n",
    "    var tot_2 = sum {i in 1..sat_max, j in 1..sat_max} X[i,j,2];\n",
    "    var tot_3 = sum {i in 1..sat_max, j in 1..sat_max} X[i,j,3];\n",
    "    var tot_4 = sum {i in 1..sat_max, j in 1..sat_max} X[i,j,4];\n",
    "    \n",
    "\n",
    "    minimize X_grid:\n",
    "    tot_1+tot_2+tot_3+tot_4\n",
    "    ;\n",
    "\n",
    "#     s.t. c1 {j in 1..combs_num}:  t0s12[j] + ADD <= timestep_max;\n",
    "#     s.t. c2 {j in 1..combs_num}:  t0s13[j] + ADD <= timestep_max;\n",
    "\n",
    "    s.t. c_diagnol: sum {i in 1..sat_max, k in 1..4} X[i,i,k] = 0;\n",
    "\n",
    "    s.t. c_total_1: tot_1 >= 3;\n",
    "    s.t. c_total_2: tot_2 >= tot_1 * tot_1;\n",
    "    s.t. c_total_3: tot_3 >= tot_1*(tot_1+1);\n",
    "    s.t. c_total_4: tot_4 = tot_1;\n",
    "    \n",
    "    # WIP -- Needs to use exists function over i but CPLEX does not allow exists functions\n",
    "    s.t. c_1: (sum {j in 1..sat_max} X[1,j,1]) == tot_1;\n",
    "    \n",
    "#     param counter = if (sum {j in 1.._sat_max} X[i,j,0]) = ;\n",
    "    \n",
    "    # s.t. c25:  t3set2_s1 + ADD <= timestep_max;\n",
    "    # s.t. c26:  t3set3_s1 + ADD <= timestep_max;\n",
    "    # s.t. c27:  t3set4_s1 + ADD <= timestep_max;\n",
    "\n",
    "    # ------------\n",
    "\n",
    "\n",
    "#     s.t. min_4_sats: sum {i in 1..sat_max, j in 1..sat_max} X[i,j,1] >= 4;\n"
   ]
  },
  {
   "cell_type": "code",
   "execution_count": null,
   "id": "6722b902-a8e4-4d9d-b887-16174c08404a",
   "metadata": {},
   "outputs": [],
   "source": []
  },
  {
   "cell_type": "code",
   "execution_count": null,
   "id": "f74926d0-86c5-48f9-80a9-1f4abcd74b3b",
   "metadata": {},
   "outputs": [],
   "source": []
  }
 ],
 "metadata": {
  "kernelspec": {
   "display_name": "Python 3 (ipykernel)",
   "language": "python",
   "name": "python3"
  },
  "language_info": {
   "codemirror_mode": {
    "name": "ipython",
    "version": 3
   },
   "file_extension": ".py",
   "mimetype": "text/x-python",
   "name": "python",
   "nbconvert_exporter": "python",
   "pygments_lexer": "ipython3",
   "version": "3.10.12"
  }
 },
 "nbformat": 4,
 "nbformat_minor": 5
}
