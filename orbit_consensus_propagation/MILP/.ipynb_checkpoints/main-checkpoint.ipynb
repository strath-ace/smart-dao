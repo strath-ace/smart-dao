{
 "cells": [
  {
   "cell_type": "code",
   "execution_count": 2,
   "id": "97d17462-92b4-43f7-81e5-d73287588bd1",
   "metadata": {
    "scrolled": true
   },
   "outputs": [
    {
     "name": "stdout",
     "output_type": "stream",
     "text": [
      "Defaulting to user installation because normal site-packages is not writeable\n",
      "Requirement already satisfied: pip in /home/robert/.local/lib/python3.10/site-packages (24.0)\n",
      "Note: you may need to restart the kernel to use updated packages.\n",
      "Note: you may need to restart the kernel to use updated packages.\n"
     ]
    },
    {
     "name": "stderr",
     "output_type": "stream",
     "text": [
      "Widget Javascript not detected.  It may not be installed or enabled properly. Reconnecting the current kernel may help.\n"
     ]
    },
    {
     "data": {
      "application/vnd.jupyter.widget-view+json": {
       "model_id": "31f2e0796a44477ca4dd17f011f39b89"
      }
     },
     "metadata": {},
     "output_type": "display_data"
    }
   ],
   "source": [
    "%pip install --upgrade pip\n",
    "# install dependencies and select solver\n",
    "%pip install -q amplpy matplotlib pandas\n",
    "\n",
    "SOLVER = \"cplex\"\n",
    "\n",
    "from amplpy import AMPL, ampl_notebook\n",
    "\n",
    "ampl = ampl_notebook(\n",
    "    modules=[\"cplex\"],  # modules to install\n",
    "    license_uuid=\"default\",  # license to use\n",
    ")  # instantiate AMPL object and register magics"
   ]
  },
  {
   "cell_type": "code",
   "execution_count": 109,
   "id": "22a4b141-8589-42bc-98b7-4812b1e98011",
   "metadata": {
    "scrolled": false
   },
   "outputs": [
    {
     "name": "stdout",
     "output_type": "stream",
     "text": [
      "CPLEX 22.1.1.0: optimal integer solution; objective 27\n",
      "3 MIP simplex iterations\n",
      "0 branch-and-bound nodes\n",
      "No basis.\n",
      "Objective is: 27.0\n",
      "[[[0 1 1 1 0 0]\n",
      "  [0 0 0 0 0 0]\n",
      "  [0 0 0 0 0 0]\n",
      "  [0 0 0 0 0 0]\n",
      "  [0 0 0 0 0 0]\n",
      "  [0 0 0 0 0 0]]\n",
      "\n",
      " [[0 0 0 0 0 0]\n",
      "  [0 0 0 0 0 0]\n",
      "  [0 0 0 0 0 0]\n",
      "  [0 1 0 0 0 0]\n",
      "  [1 1 0 1 0 1]\n",
      "  [1 1 1 1 0 0]]\n",
      "\n",
      " [[0 1 1 0 0 0]\n",
      "  [0 0 0 0 1 0]\n",
      "  [0 0 0 0 0 0]\n",
      "  [0 1 1 0 1 1]\n",
      "  [1 1 1 1 0 1]\n",
      "  [0 0 0 0 0 0]]\n",
      "\n",
      " [[0 1 0 0 0 0]\n",
      "  [0 0 0 0 0 0]\n",
      "  [0 0 0 0 0 0]\n",
      "  [1 0 0 0 0 0]\n",
      "  [0 0 0 1 0 0]\n",
      "  [0 0 0 0 0 0]]]\n"
     ]
    }
   ],
   "source": [
    "import json\n",
    "import numpy as np\n",
    "import random\n",
    "from itertools import combinations\n",
    "\n",
    "m = AMPL()\n",
    "m.read(\"objectives.mod\")\n",
    "\n",
    "m.option[\"solver\"] = SOLVER\n",
    "\n",
    "m.param[\"sat_max\"] = 6\n",
    "\n",
    "\n",
    "\n",
    "m.solve()\n",
    "\n",
    "total_cost = m.get_objective(\"X_grid\")\n",
    "print(\"Objective is:\", total_cost.get().value())\n",
    "\n",
    "X_raw = np.array(m.getVariable(\"X\").get_values().to_list())\n",
    "X = np.empty((4,6,6), dtype=int)\n",
    "X[X_raw[:,2]-1,X_raw[:,0]-1,X_raw[:,1]-1] = X_raw[:,3]\n",
    "\n",
    "print(X)\n"
   ]
  },
  {
   "cell_type": "code",
   "execution_count": null,
   "id": "8a3804a3",
   "metadata": {
    "scrolled": true
   },
   "outputs": [],
   "source": []
  },
  {
   "cell_type": "code",
   "execution_count": null,
   "id": "89f6641b-0996-44f8-bcc3-c31243fd2d00",
   "metadata": {
    "scrolled": true
   },
   "outputs": [],
   "source": []
  },
  {
   "cell_type": "code",
   "execution_count": null,
   "id": "638d2f4d-4f0c-4640-aa99-34ca8e96abf4",
   "metadata": {
    "scrolled": true
   },
   "outputs": [],
   "source": []
  }
 ],
 "metadata": {
  "kernelspec": {
   "display_name": "Python 3 (ipykernel)",
   "language": "python",
   "name": "python3"
  },
  "language_info": {
   "codemirror_mode": {
    "name": "ipython",
    "version": 3
   },
   "file_extension": ".py",
   "mimetype": "text/x-python",
   "name": "python",
   "nbconvert_exporter": "python",
   "pygments_lexer": "ipython3",
   "version": "3.10.12"
  }
 },
 "nbformat": 4,
 "nbformat_minor": 5
}
